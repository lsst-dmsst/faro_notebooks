{
 "cells": [
  {
   "cell_type": "markdown",
   "metadata": {},
   "source": [
    "### Comparison of results from validate_drp and SPORK on the same dataset.\n",
    "\n",
    "In particular, this comparison is run on HSC RC2."
   ]
  },
  {
   "cell_type": "code",
   "execution_count": null,
   "metadata": {},
   "outputs": [],
   "source": [
    "import random\n",
    "import numpy as np\n",
    "from astropy.table import Table\n",
    "from astropy import units as u\n",
    "from astropy.table import hstack, Column\n",
    "import matplotlib.pyplot as plt\n",
    "import json\n",
    "import os\n",
    "\n",
    "import lsst.verify\n",
    "import lsst.geom as geom\n",
    "import lsst.daf.persistence as dafPersist\n",
    "from lsst.verify.gen2tasks import register, MetricsControllerTask\n",
    "from lsst.verify.tasks import MetricTask\n",
    "import lsst.daf.butler as dafButler"
   ]
  },
  {
   "cell_type": "code",
   "execution_count": null,
   "metadata": {},
   "outputs": [],
   "source": [
    "# Output from a run of validate_drp:\n",
    "validate_job_g9615 = '/project/jcarlin/mvm_w_25/9615/matchedVisit_HSC-G.json'\n",
    "validate_job_r9615 = '/project/jcarlin/mvm_w_25/9615/matchedVisit_HSC-R.json'\n",
    "validate_job_i9615 = '/project/jcarlin/mvm_w_25/9615/matchedVisit_HSC-I.json'"
   ]
  },
  {
   "cell_type": "markdown",
   "metadata": {},
   "source": [
    "The validate_drp results come from executing the following commands on the v20_0_0_rc1 processing of the RC2 dataset:\n",
    "\n",
    "matchedVisitMetrics.py /datasets/hsc/repo/rerun/RC/v20_0_0_rc1/DM-25349 --output /project/jcarlin/mvm_w_25 --config instrumentName='HSC' datasetName='HSC-RC2' --id tract=9615 filter='HSC-G^HSC-R^HSC-I'\n",
    "\n",
    "matchedVisitMetrics.py /datasets/hsc/repo/rerun/RC/v20_0_0_rc1/DM-25349 --output /project/jcarlin/mvm_w_25/9813 --config instrumentName='HSC' datasetName='HSC-RC2' --id tract=9813 filter='HSC-G^HSC-R^HSC-I'\n",
    "\n",
    "matchedVisitMetrics.py /datasets/hsc/repo/rerun/RC/v20_0_0_rc1/DM-25349 --output /project/jcarlin/mvm_w_25/9697 --config instrumentName='HSC' datasetName='HSC-RC2' --id tract=9697 filter='HSC-G^HSC-R^HSC-I'"
   ]
  },
  {
   "cell_type": "code",
   "execution_count": null,
   "metadata": {},
   "outputs": [],
   "source": [
    "# Read in the .json saved by each validate_drp run:\n",
    "with open(validate_job_g9615) as f:\n",
    "    job_g9615 = lsst.verify.Job.deserialize(**json.load(f))\n",
    "with open(validate_job_r9615) as f:\n",
    "    job_r9615 = lsst.verify.Job.deserialize(**json.load(f))\n",
    "with open(validate_job_i9615) as f:\n",
    "    job_i9615 = lsst.verify.Job.deserialize(**json.load(f))"
   ]
  },
  {
   "cell_type": "code",
   "execution_count": null,
   "metadata": {},
   "outputs": [],
   "source": [
    "# Show a metric report in the notebook (use \"spec_tags\" to specify design, stretch, or minimum req level):\n",
    "job.report(spec_tags=['design']).show()"
   ]
  },
  {
   "cell_type": "code",
   "execution_count": null,
   "metadata": {},
   "outputs": [],
   "source": [
    "# Extract the measurements from the JSON:\n",
    "meas_g9615 = job_g9615.measurements.json\n",
    "meas_r9615 = job_r9615.measurements.json\n",
    "meas_i9615 = job_i9615.measurements.json"
   ]
  },
  {
   "cell_type": "code",
   "execution_count": null,
   "metadata": {},
   "outputs": [],
   "source": [
    "# Compile the measurements into arrays:\n",
    "\n",
    "gen2_names_g9615 = []\n",
    "gen2_vals_g9615 = []\n",
    "gen2_units_g9615 = []\n",
    "\n",
    "for met in meas_g9615:\n",
    "    # print(met['metric'], met['value'], met['unit'])\n",
    "    gen2_names_g9615.append(met['metric'])\n",
    "    gen2_vals_g9615.append(met['value'])\n",
    "    gen2_units_g9615.append(met['unit'])\n",
    "    \n",
    "gen2_names_r9615 = []\n",
    "gen2_vals_r9615 = []\n",
    "gen2_units_r9615 = []\n",
    "\n",
    "for met in meas_r9615:\n",
    "    # print(met['metric'], met['value'], met['unit'])\n",
    "    gen2_names_r9615.append(met['metric'])\n",
    "    gen2_vals_r9615.append(met['value'])\n",
    "    gen2_units_r9615.append(met['unit'])\n",
    "    \n",
    "gen2_names_i9615 = []\n",
    "gen2_vals_i9615 = []\n",
    "gen2_units_i9615 = []\n",
    "\n",
    "for met in meas_i9615:\n",
    "    # print(met['metric'], met['value'], met['unit'])\n",
    "    gen2_names_i9615.append(met['metric'])\n",
    "    gen2_vals_i9615.append(met['value'])\n",
    "    gen2_units_i9615.append(met['unit'])"
   ]
  },
  {
   "cell_type": "code",
   "execution_count": null,
   "metadata": {},
   "outputs": [],
   "source": [
    "# Make the arrays into astropy tables:\n",
    "tab_gen2_g9615 = Table([gen2_names_g9615, gen2_vals_g9615, gen2_units_g9615], names=['metric', 'value', 'units'], dtype=(str, 'f2', str))\n",
    "tab_gen2_r9615 = Table([gen2_names_r9615, gen2_vals_r9615, gen2_units_r9615], names=['metric', 'value', 'units'], dtype=(str, 'f2', str))\n",
    "tab_gen2_i9615 = Table([gen2_names_i9615, gen2_vals_i9615, gen2_units_i9615], names=['metric', 'value', 'units'], dtype=(str, 'f2', str))"
   ]
  },
  {
   "cell_type": "markdown",
   "metadata": {},
   "source": [
    "### Now get the Gen 3 butler results from running SPORK on RC2"
   ]
  },
  {
   "cell_type": "code",
   "execution_count": null,
   "metadata": {},
   "outputs": [],
   "source": [
    "try: butler_gen3 = dafButler.Butler(config='/home/jcarlin/rc2v20_butler.yaml')\n",
    "except ValueError as e: print(e)"
   ]
  },
  {
   "cell_type": "code",
   "execution_count": null,
   "metadata": {},
   "outputs": [],
   "source": [
    "registry = butler_gen3.registry"
   ]
  },
  {
   "cell_type": "code",
   "execution_count": null,
   "metadata": {},
   "outputs": [],
   "source": [
    "# To see what collections are in the repo:\n",
    "#for c in registry.queryCollections():\n",
    "#    print(c)"
   ]
  },
  {
   "cell_type": "code",
   "execution_count": null,
   "metadata": {},
   "outputs": [],
   "source": [
    "# To see what dataset types are (potentially) available:\n",
    "#for x in registry.queryDatasetTypes():\n",
    "#    print(x)"
   ]
  },
  {
   "cell_type": "code",
   "execution_count": null,
   "metadata": {},
   "outputs": [],
   "source": [
    "# These are the names of the metrics we plan to extract from the repo:\n",
    "metricnames = ['PA1', 'PA2_design_gri', 'PF1_design_gri', 'AM1', 'AM2', 'AM3', 'AD1_design', 'AF1_design',\n",
    "               'AD2_design', 'AF2_design', 'AD3_design', 'AF3_design', 'TE1', 'TE2', 'AB1_design']"
   ]
  },
  {
   "cell_type": "code",
   "execution_count": null,
   "metadata": {},
   "outputs": [],
   "source": [
    "collectionName = 'kbechtol/test_metrics_4'"
   ]
  },
  {
   "cell_type": "code",
   "execution_count": null,
   "metadata": {},
   "outputs": [],
   "source": [
    "def get_metric_meas(collectionName, filt, tract, metrics):\n",
    "    \n",
    "    metric_agg_vals = []\n",
    "    metric_unit = []\n",
    "    metric_filter = []\n",
    "    metric_name = []\n",
    "    metric_ids = []\n",
    "    metric_meas = []\n",
    "\n",
    "    did={'tract':str(tract), 'band':filt, 'instrument':'HSC', 'skymap':'hsc_rings_v1'}\n",
    "\n",
    "    for metric in metrics:\n",
    "        dataset = f\"metricvalue_summary_validate_drp_{metric}\"\n",
    "        query = registry.queryDatasets(datasetType=dataset, collections=[collectionName], dataId=did)\n",
    "        for meas in query:            \n",
    "            metric_tmp = butler_gen3.get(meas, collections=[collectionName])\n",
    "            metric_agg_vals.append(metric_tmp.quantity.value)\n",
    "            metric_unit.append(metric_tmp.quantity.unit)\n",
    "            metric_name.append(metric)\n",
    "            metric_ids.append(meas)\n",
    "            metric_meas.append(metric_tmp)\n",
    "            metric_filter.append(meas.dataId['band'])\n",
    "    \n",
    "    tab_metrics = Table([metric_name, metric_unit, metric_filter, metric_agg_vals], \n",
    "                        names=('metric', 'unit', 'filter', str(tract)+'_gen3'), dtype=(str, str, str, 'f2'))\n",
    "        \n",
    "    return(tab_metrics)"
   ]
  },
  {
   "cell_type": "code",
   "execution_count": null,
   "metadata": {},
   "outputs": [],
   "source": [
    "# Extract astropy tables of the metric values by calling the function defined above:\n",
    "tab_gen3_g9615 = get_metric_meas(collectionName, 'g', 9615, metricnames)\n",
    "tab_gen3_r9615 = get_metric_meas(collectionName, 'r', 9615, metricnames)\n",
    "tab_gen3_i9615 = get_metric_meas(collectionName, 'i', 9615, metricnames)"
   ]
  },
  {
   "cell_type": "code",
   "execution_count": null,
   "metadata": {},
   "outputs": [],
   "source": [
    "tab_gen3_g9813"
   ]
  },
  {
   "cell_type": "markdown",
   "metadata": {},
   "source": [
    "Loop over the names of the metrics, picking out the corresponding measurements from Gen2 and Gen3 (and possibly from tracts/filters separately), compiling them into a table together. (Later, we may want to add in the specs?)"
   ]
  },
  {
   "cell_type": "code",
   "execution_count": null,
   "metadata": {},
   "outputs": [],
   "source": [
    "tab_metrics_g9615 = tab_gen3_g9615.copy()\n",
    "matchcol=np.zeros(len(tab_metrics_g9615['9615_gen3']))\n",
    "\n",
    "for i in range(len(tab_metrics_g9615['metric'])):\n",
    "    name = tab_metrics_g9615['metric'][i]\n",
    "    find_in_tab2 = np.where(np.char.find(tab_gen2_g9615['metric'], name) >= 0)\n",
    "\n",
    "    if np.size(find_in_tab2) > 0:\n",
    "        matchcol[i] = tab_gen2_g9615['value'][find_in_tab2[0]]\n",
    "    else:\n",
    "        matchcol[i] = np.nan\n",
    "    \n",
    "tab_metrics_g9615_all = hstack([tab_metrics_g9615, Column(matchcol, name='9615_gen2', dtype='f2')])"
   ]
  },
  {
   "cell_type": "code",
   "execution_count": null,
   "metadata": {},
   "outputs": [],
   "source": [
    "tab_metrics_r9615 = tab_gen3_r9615.copy()\n",
    "matchcol=np.zeros(len(tab_metrics_r9615['9615_gen3']))\n",
    "\n",
    "for i in range(len(tab_metrics_r9615['metric'])):\n",
    "    name = tab_metrics_r9615['metric'][i]\n",
    "    find_in_tab2 = np.where(np.char.find(tab_gen2_r9615['metric'], name) >= 0)\n",
    "\n",
    "    if np.size(find_in_tab2) > 0:\n",
    "        matchcol[i] = tab_gen2_r9615['value'][find_in_tab2[0]]\n",
    "    else:\n",
    "        matchcol[i] = np.nan\n",
    "    \n",
    "tab_metrics_r9615_all = hstack([tab_metrics_r9615, Column(matchcol, name='9615_gen2', dtype='f2')])"
   ]
  },
  {
   "cell_type": "code",
   "execution_count": null,
   "metadata": {},
   "outputs": [],
   "source": [
    "tab_metrics_i9615 = tab_gen3_i9615.copy()\n",
    "matchcol=np.zeros(len(tab_metrics_i9615['9615_gen3']))\n",
    "\n",
    "for i in range(len(tab_metrics_i9615['metric'])):\n",
    "    name = tab_metrics_i9615['metric'][i]\n",
    "    find_in_tab2 = np.where(np.char.find(tab_gen2_i9615['metric'], name) >= 0)\n",
    "\n",
    "    if np.size(find_in_tab2) > 0:\n",
    "        matchcol[i] = tab_gen2_i9615['value'][find_in_tab2[0]]\n",
    "    else:\n",
    "        matchcol[i] = np.nan\n",
    "    \n",
    "tab_metrics_i9615_all = hstack([tab_metrics_i9615, Column(matchcol, name='9615_gen2', dtype='f2')])"
   ]
  },
  {
   "cell_type": "code",
   "execution_count": null,
   "metadata": {},
   "outputs": [],
   "source": [
    "# Combine them all into a single table:\n",
    "tab_gr_tmp = hstack([tab_metrics_g9615_all, tab_metrics_r9615_all['filter','9615_gen3', '9615_gen2']])\n",
    "tab_metrics_9615_all = hstack([tab_gr_tmp, tab_metrics_i9615_all['filter','9615_gen3', '9615_gen2']])"
   ]
  },
  {
   "cell_type": "code",
   "execution_count": null,
   "metadata": {},
   "outputs": [],
   "source": [
    "tab_metrics_9615_all"
   ]
  },
  {
   "cell_type": "code",
   "execution_count": null,
   "metadata": {},
   "outputs": [],
   "source": [
    "# Write out a Latex table\n",
    "tab_metrics_9615_all.write('compare_metrics_gen2and3_tract9615.tex', format='ascii.latex')"
   ]
  },
  {
   "cell_type": "code",
   "execution_count": null,
   "metadata": {},
   "outputs": [],
   "source": []
  },
  {
   "cell_type": "markdown",
   "metadata": {},
   "source": [
    "### Plot the metric measurements per patch"
   ]
  },
  {
   "cell_type": "code",
   "execution_count": null,
   "metadata": {},
   "outputs": [],
   "source": [
    "dimensions = registry.queryDimensions('patch',\n",
    "                                      dataId={'tract':9615, 'band':'r', 'instrument':'HSC', 'skymap':'hsc_rings_v1'},\n",
    "                                      collections=[collectionName],datasets='metricvalue_validate_drp_PA1')"
   ]
  },
  {
   "cell_type": "code",
   "execution_count": null,
   "metadata": {},
   "outputs": [],
   "source": [
    "patch_tmp = []\n",
    "for d in dimensions:\n",
    "    patch_tmp.append(d['patch'])"
   ]
  },
  {
   "cell_type": "code",
   "execution_count": null,
   "metadata": {},
   "outputs": [],
   "source": [
    "patch = np.unique(patch_tmp)"
   ]
  },
  {
   "cell_type": "code",
   "execution_count": null,
   "metadata": {},
   "outputs": [],
   "source": [
    "patch"
   ]
  },
  {
   "cell_type": "code",
   "execution_count": null,
   "metadata": {},
   "outputs": [],
   "source": [
    "metric_agg_vals = np.zeros((len(patch),len(metricnames)))\n",
    "metric_agg_vals[:] = np.nan\n",
    "metric_patch = []\n",
    "metric_ra = []\n",
    "metric_dec = []\n",
    "\n",
    "for p in patch:\n",
    "    metric_patch.append(p)\n",
    "    did={'tract':9615, 'band':'r', 'instrument':'HSC', 'skymap':'hsc_rings_v1', 'patch':p}\n",
    "    \n",
    "    for i in range(len(metricnames)):\n",
    "        metric = metricnames[i]\n",
    "        dataset = f\"metricvalue_validate_drp_{metric}\"\n",
    "    \n",
    "        query = registry.queryDatasets(datasetType=dataset, collections=[collectionName], dataId=did)\n",
    "        for meas in query:            \n",
    "            metric_tmp = butler_gen3.get(meas, collections=[collectionName])\n",
    "            metric_agg_vals[p,i]=metric_tmp.quantity.value\n",
    "\n",
    "            if i == 0:\n",
    "                coadd = butler_gen3.get('deepCoadd', collections=['RC2/v20_0_0_rc1'],dataId=did)\n",
    "                wcs = coadd.getWcs()\n",
    "                xy0 = wcs.pixelToSky(geom.Point2D(coadd.getXY0()))\n",
    "                metric_ra.append(xy0.getRa().asDegrees())\n",
    "                metric_dec.append(xy0.getDec().asDegrees())\n",
    "    \n",
    "tab_metrics_perpatch = Table([metric_patch, metric_ra, metric_dec, metric_agg_vals],\n",
    "                             names=('patch', 'ra', 'dec', 'metrics'))"
   ]
  },
  {
   "cell_type": "code",
   "execution_count": null,
   "metadata": {},
   "outputs": [],
   "source": [
    "params = {\n",
    "   'axes.labelsize': 28,\n",
    "   'font.size': 24,\n",
    "   'legend.fontsize': 14,\n",
    "   'xtick.major.width': 3,\n",
    "   'xtick.minor.width': 2,\n",
    "   'xtick.major.size': 12,\n",
    "   'xtick.minor.size': 6,\n",
    "   'xtick.direction': 'in',\n",
    "   'xtick.top': True,\n",
    "   'lines.linewidth':3,\n",
    "   'axes.linewidth':3,\n",
    "   'axes.labelweight':3,\n",
    "   'axes.titleweight':3,\n",
    "   'ytick.major.width':3,\n",
    "   'ytick.minor.width':2,\n",
    "   'ytick.major.size': 12,\n",
    "   'ytick.minor.size': 6,\n",
    "   'ytick.direction': 'in',\n",
    "   'ytick.right': True,\n",
    "   'figure.figsize': [10, 8]\n",
    "   }\n",
    "\n",
    "plt.rcParams.update(params)\n",
    "\n",
    "metric_to_plot = 'AD1'\n",
    "find_metric_name = np.where(np.char.find(metricnames, metric_to_plot) >= 0)\n",
    "\n",
    "plt.scatter(tab_metrics_perpatch['ra'], tab_metrics_perpatch['dec'], c=tab_metrics_perpatch['metrics'][:,find_metric_name], \n",
    "            cmap='rainbow', s=60)\n",
    "#plt.xlim(216.4,216.1)\n",
    "#plt.ylim(0.742,0.746)\n",
    "plt.gca().invert_xaxis()\n",
    "plt.xlabel(r'RA (deg)')\n",
    "plt.ylabel(r'Dec (deg)')\n",
    "plt.minorticks_on()\n",
    "plt.colorbar(label=metricnames[find_metric_name[0][0]])\n",
    "plt.show()"
   ]
  }
 ],
 "metadata": {
  "kernelspec": {
   "display_name": "LSST",
   "language": "python",
   "name": "lsst"
  },
  "language_info": {
   "codemirror_mode": {
    "name": "ipython",
    "version": 3
   },
   "file_extension": ".py",
   "mimetype": "text/x-python",
   "name": "python",
   "nbconvert_exporter": "python",
   "pygments_lexer": "ipython3",
   "version": "3.7.6"
  }
 },
 "nbformat": 4,
 "nbformat_minor": 4
}
