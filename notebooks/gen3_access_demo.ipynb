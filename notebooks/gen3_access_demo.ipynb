{
 "cells": [
  {
   "cell_type": "markdown",
   "metadata": {},
   "source": [
    "## Butler Access to Intermediate Data Products used for Verification Analyses\n",
    "\n",
    "This is a simple example notebook to demonstrate how to access the intermediate data products with the Gen-3 butler\n",
    "\n",
    "Verified Stack Release: w_2020_16"
   ]
  },
  {
   "cell_type": "code",
   "execution_count": null,
   "metadata": {},
   "outputs": [],
   "source": [
    "import os\n",
    "import numpy as np\n",
    "import pylab\n",
    "import astropy.units as u\n",
    "%matplotlib widget\n",
    "\n",
    "# Stack imports\n",
    "import lsst.daf.butler as dafButler"
   ]
  },
  {
   "cell_type": "code",
   "execution_count": null,
   "metadata": {},
   "outputs": [],
   "source": [
    "# Which version of the Stack am I using?\n",
    "!eups list -s | grep lsst_distrib"
   ]
  },
  {
   "cell_type": "code",
   "execution_count": null,
   "metadata": {},
   "outputs": [],
   "source": [
    "repo = '/project/krughoff/repos/ci_hsc_gen3'\n",
    "\n",
    "config = os.path.join(repo,'DATA','butler.yaml')\n",
    "\n",
    "\n",
    "try: butler = dafButler.Butler(config=config)\n",
    "except ValueError as e: print(e)\n",
    "\n",
    "butler = dafButler.Butler(config=config)\n",
    "registry = butler.registry"
   ]
  },
  {
   "cell_type": "code",
   "execution_count": null,
   "metadata": {},
   "outputs": [],
   "source": [
    "for c in registry.queryCollections():\n",
    "    print(c)"
   ]
  },
  {
   "cell_type": "code",
   "execution_count": null,
   "metadata": {},
   "outputs": [],
   "source": [
    "for x in registry.queryDatasetTypes():\n",
    "    print(x)"
   ]
  },
  {
   "cell_type": "markdown",
   "metadata": {},
   "source": [
    "## After Running the Pipeline\n",
    "\n",
    "Let's take a look at the datasets created when running the pipeline."
   ]
  },
  {
   "cell_type": "code",
   "execution_count": null,
   "metadata": {},
   "outputs": [],
   "source": [
    "# Yes, you really do need to specify the collections argument\n",
    "src_refs = list(registry.queryDatasets('src', collections='matchedTest', band='r'))\n",
    "matched_catalog_refs = list(registry.queryDatasets('matchedCatalog', collections='matchedTest', band='r'))\n",
    "pa1_refs = list(registry.queryDatasets('PA1', collections='matchedTest', band='r'))\n",
    "summary_pa1_refs = list(registry.queryDatasets('meanPA1', collections='matchedTest', band='r'))\n",
    "print('Found %i matched catalogs meeting the selection criteria'%(len(matched_catalog_refs)))"
   ]
  },
  {
   "cell_type": "code",
   "execution_count": null,
   "metadata": {},
   "outputs": [],
   "source": [
    "# A variant\n",
    "#dataIds = list(registry.queryDimensions([\"exposure\", \"detector\"], datasets=[\"calexp\"], collections=\"shared/ci_hsc_output\"))\n",
    "#calexp = butler.get('calexp', dataId=dataIds[0], collections=\"shared/ci_hsc_output\")"
   ]
  },
  {
   "cell_type": "code",
   "execution_count": null,
   "metadata": {},
   "outputs": [],
   "source": [
    "pylab.figure()\n",
    "markers = ['.', 'v', '^', '<', '>', '1', '2', '3', '4']\n",
    "i = 0\n",
    "for ref in matched_catalog_refs:\n",
    "    matched_catalog = butler.getDirect(ref)\n",
    "    if len(matched_catalog) > 0:\n",
    "        pylab.scatter(np.degrees(matched_catalog['coord_ra']), np.degrees(matched_catalog['coord_dec']), \n",
    "                      edgecolor='none', marker=markers[i]) \n",
    "        i += 1\n",
    "pylab.xlim(pylab.xlim()[::-1])\n",
    "pylab.xlabel('RA (deg)')\n",
    "pylab.ylabel('Dec (deg)')"
   ]
  },
  {
   "cell_type": "markdown",
   "metadata": {},
   "source": [
    "Next, access the measured PA1 values from individual patches"
   ]
  },
  {
   "cell_type": "code",
   "execution_count": null,
   "metadata": {},
   "outputs": [],
   "source": [
    "pa1_measurements = [butler.getDirect(ref).quantity for ref in pa1_refs]\n",
    "for ref, measurement in zip(pa1_refs, pa1_measurements):\n",
    "    print('Patch %3i:%10.2f %s'%(ref.dataId['patch'], \n",
    "                                 measurement.value, \n",
    "                                 measurement.unit))\n",
    "\n",
    "pa1_measurements = u.Quantity(pa1_measurements)\n",
    "    \n",
    "pylab.figure()\n",
    "pylab.hist(pa1_measurements.value[~np.isnan(pa1_measurements)])\n",
    "pylab.xlabel('PA1 (%s)'%(pa1_measurements.unit))\n",
    "pylab.ylabel('Counts')"
   ]
  },
  {
   "cell_type": "markdown",
   "metadata": {},
   "source": [
    "We can also access the PA1 summary statistic"
   ]
  },
  {
   "cell_type": "code",
   "execution_count": null,
   "metadata": {},
   "outputs": [],
   "source": [
    "butler.getDirect(summary_pa1_refs[0])"
   ]
  },
  {
   "cell_type": "code",
   "execution_count": null,
   "metadata": {},
   "outputs": [],
   "source": []
  }
 ],
 "metadata": {
  "kernelspec": {
   "display_name": "LSST",
   "language": "python",
   "name": "lsst"
  },
  "language_info": {
   "codemirror_mode": {
    "name": "ipython",
    "version": 3
   },
   "file_extension": ".py",
   "mimetype": "text/x-python",
   "name": "python",
   "nbconvert_exporter": "python",
   "pygments_lexer": "ipython3",
   "version": "3.7.6"
  }
 },
 "nbformat": 4,
 "nbformat_minor": 4
}
