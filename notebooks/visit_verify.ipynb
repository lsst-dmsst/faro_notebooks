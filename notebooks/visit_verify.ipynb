{
 "cells": [
  {
   "cell_type": "markdown",
   "metadata": {},
   "source": [
    "# Butler Per-Visit Checker\n",
    "\n",
    "This is a simple notebook to verify that the per-visit metrics are doing what we expect"
   ]
  },
  {
   "cell_type": "code",
   "execution_count": null,
   "metadata": {},
   "outputs": [],
   "source": [
    "import os\n",
    "import numpy as np\n",
    "import astropy.units as u\n",
    "\n",
    "import lsst.daf.butler as dafButler"
   ]
  },
  {
   "cell_type": "code",
   "execution_count": null,
   "metadata": {},
   "outputs": [],
   "source": [
    "# Which version of the Stack am I using?\n",
    "!eups list -s | grep lsst_distrib"
   ]
  },
  {
   "cell_type": "code",
   "execution_count": null,
   "metadata": {},
   "outputs": [],
   "source": [
    "repo = '/home/kbechtol/DATA/TEST_W_2020_21/ci_hsc_gen3'\n",
    "\n",
    "config = os.path.join(repo,'DATA','butler.yaml')\n",
    "\n",
    "\n",
    "try: butler = dafButler.Butler(config=config)\n",
    "except ValueError as e: print(e)\n",
    "\n",
    "butler = dafButler.Butler(config=config)\n",
    "registry = butler.registry"
   ]
  },
  {
   "cell_type": "code",
   "execution_count": null,
   "metadata": {},
   "outputs": [],
   "source": [
    "for c in registry.queryCollections():\n",
    "    print(c)"
   ]
  },
  {
   "cell_type": "code",
   "execution_count": null,
   "metadata": {},
   "outputs": [],
   "source": [
    "for x in registry.queryDatasetTypes():\n",
    "    print(x)"
   ]
  },
  {
   "cell_type": "code",
   "execution_count": null,
   "metadata": {},
   "outputs": [],
   "source": [
    "collections = 'visitTest'\n",
    "#collections = 'shared/ci_hsc_output'\n",
    "kwargs = {'band': 'r'}\n",
    "src_refs = list(registry.queryDatasets('src', collections=collections, **kwargs))\n",
    "nsrcMeasVisit_refs = list(registry.queryDatasets('metricvalue_info_nsrcMeasVisit', collections=collections, **kwargs))\n",
    "sum_nsrcMeasVisit_refs = list(registry.queryDatasets('metricvalue_Sum_info_nsrcMeasVisit', collections=collections, **kwargs))"
   ]
  },
  {
   "cell_type": "code",
   "execution_count": null,
   "metadata": {},
   "outputs": [],
   "source": [
    "len(src_refs)"
   ]
  },
  {
   "cell_type": "code",
   "execution_count": null,
   "metadata": {},
   "outputs": [],
   "source": [
    "for ref in src_refs:\n",
    "    src_catalog = butler.getDirect(ref)\n",
    "    print(ref.dataId, len(src_catalog))"
   ]
  },
  {
   "cell_type": "code",
   "execution_count": null,
   "metadata": {},
   "outputs": [],
   "source": [
    "np.sum([len(butler.getDirect(ref)) for ref in src_refs])"
   ]
  },
  {
   "cell_type": "code",
   "execution_count": null,
   "metadata": {},
   "outputs": [],
   "source": [
    "# Get the number of unique visits\n",
    "len(np.unique([ref.dataId['visit'] for ref in src_refs]))"
   ]
  },
  {
   "cell_type": "code",
   "execution_count": null,
   "metadata": {},
   "outputs": [],
   "source": [
    "len(nsrcMeasVisit_refs)"
   ]
  },
  {
   "cell_type": "code",
   "execution_count": null,
   "metadata": {},
   "outputs": [],
   "source": [
    "for ref in nsrcMeasVisit_refs:\n",
    "    measurement = butler.getDirect(ref)\n",
    "    print(ref.dataId, measurement.quantity)"
   ]
  },
  {
   "cell_type": "code",
   "execution_count": null,
   "metadata": {},
   "outputs": [],
   "source": [
    "np.sum(u.Quantity([butler.getDirect(ref).quantity for ref in nsrcMeasVisit_refs]))"
   ]
  },
  {
   "cell_type": "code",
   "execution_count": null,
   "metadata": {},
   "outputs": [],
   "source": [
    "len(sum_nsrcMeasVisit_refs)"
   ]
  },
  {
   "cell_type": "code",
   "execution_count": null,
   "metadata": {},
   "outputs": [],
   "source": [
    "for ref in sum_nsrcMeasVisit_refs:\n",
    "    measurement = butler.getDirect(ref)\n",
    "    print(ref.dataId, measurement.quantity)"
   ]
  },
  {
   "cell_type": "code",
   "execution_count": null,
   "metadata": {},
   "outputs": [],
   "source": [
    "np.sum(u.Quantity([butler.getDirect(ref).quantity for ref in sum_nsrcMeasVisit_refs]))"
   ]
  },
  {
   "cell_type": "code",
   "execution_count": null,
   "metadata": {},
   "outputs": [],
   "source": []
  }
 ],
 "metadata": {
  "kernelspec": {
   "display_name": "LSST",
   "language": "python",
   "name": "lsst"
  },
  "language_info": {
   "codemirror_mode": {
    "name": "ipython",
    "version": 3
   },
   "file_extension": ".py",
   "mimetype": "text/x-python",
   "name": "python",
   "nbconvert_exporter": "python",
   "pygments_lexer": "ipython3",
   "version": "3.7.6"
  }
 },
 "nbformat": 4,
 "nbformat_minor": 4
}
